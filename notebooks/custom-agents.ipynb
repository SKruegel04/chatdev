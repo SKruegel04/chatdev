{
 "cells": [
  {
   "cell_type": "markdown",
   "metadata": {},
   "source": [
    "## Initialize environment"
   ]
  },
  {
   "cell_type": "code",
   "execution_count": 1,
   "metadata": {},
   "outputs": [
    {
     "data": {
      "text/plain": [
       "True"
      ]
     },
     "execution_count": 1,
     "metadata": {},
     "output_type": "execute_result"
    }
   ],
   "source": [
    "from dotenv import load_dotenv\n",
    "from os import getenv\n",
    "\n",
    "load_dotenv(\"../.env\")\n",
    "load_dotenv(\"../.env.local\")"
   ]
  },
  {
   "cell_type": "markdown",
   "metadata": {},
   "source": [
    "## Initialize OpenAI Client"
   ]
  },
  {
   "cell_type": "code",
   "execution_count": 8,
   "metadata": {},
   "outputs": [
    {
     "data": {
      "text/plain": [
       "'\"Banane\" ist einfach das deutsche Wort für eine gelbe Frucht, die von den meisten Menschen wegen ihres süßen Geschmacks und ihrer praktischen, natürlichen Verpackung sehr geschätzt wird. Sie wird häufig als Snack gegessen oder in verschiedenen Gerichten, wie zum Beispiel Smoothies, Backwaren oder Frühstückscerealien verwendet. Bananen sind eine gute Quelle für Vitamin B6, Vitamin C, Ballaststoffe und Potassium. Sie wachsen in Büscheln an einer Bananenpflanze, die in tropischen Regionen wie Südamerika, Afrika, Indien und Südostasien heimisch ist.\\n\\nWenn du mit \"Sag mal Banane\" etwas Bestimmtes meintest oder eine spezielle Frage zur Frucht hast, lass es mich wissen, und ich werde mich bemühen, deine Frage so gut wie möglich zu beantworten.'"
      ]
     },
     "execution_count": 8,
     "metadata": {},
     "output_type": "execute_result"
    }
   ],
   "source": [
    "from openai import OpenAI\n",
    "\n",
    "# API Key is loaded from environment variable OPENAI_API_KEY initialized through dotenv above\n",
    "client = OpenAI()\n",
    "\n",
    "chat_completion = client.chat.completions.create(\n",
    "    messages=[\n",
    "        {\n",
    "            \"role\": \"user\",\n",
    "            \"content\": \"Sag mal Banane\",\n",
    "        }\n",
    "    ],\n",
    "    model=\"gpt-4-1106-preview\",\n",
    ")\n",
    "\n",
    "chat_completion.choices[0].message.content\n",
    "    "
   ]
  }
 ],
 "metadata": {
  "kernelspec": {
   "display_name": "Python 3",
   "language": "python",
   "name": "python3"
  },
  "language_info": {
   "codemirror_mode": {
    "name": "ipython",
    "version": 3
   },
   "file_extension": ".py",
   "mimetype": "text/x-python",
   "name": "python",
   "nbconvert_exporter": "python",
   "pygments_lexer": "ipython3",
   "version": "3.10.12"
  }
 },
 "nbformat": 4,
 "nbformat_minor": 2
}
