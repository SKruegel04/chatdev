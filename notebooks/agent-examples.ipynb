{
 "cells": [
  {
   "cell_type": "markdown",
   "metadata": {},
   "source": [
    "### Creating OpenAPI Config"
   ]
  },
  {
   "cell_type": "code",
   "execution_count": 8,
   "metadata": {},
   "outputs": [],
   "source": [
    "from autogen import config_list_from_json\n",
    "\n",
    "config_list_gpt4 = config_list_from_json(\"../OAI_CONFIG_LIST\")\n",
    "\n",
    "gpt4_config = {\n",
    "    \"seed\": 42,  # change the seed for different trials\n",
    "    \"temperature\": 0,\n",
    "    \"config_list\": config_list_gpt4,\n",
    "    \"timeout\": 120,\n",
    "}"
   ]
  },
  {
   "cell_type": "markdown",
   "metadata": {},
   "source": [
    "## Phase 1: Designing - Chat 1: Creating requirements"
   ]
  },
  {
   "cell_type": "markdown",
   "metadata": {},
   "source": [
    "### The agents"
   ]
  },
  {
   "cell_type": "code",
   "execution_count": 9,
   "metadata": {},
   "outputs": [],
   "source": [
    "from autogen import UserProxyAgent, AssistantAgent\n",
    "\n",
    "user_proxy = UserProxyAgent(\n",
    "  name=\"Customer\",\n",
    "  system_message='''\n",
    "    A human customer.\n",
    "    Provides task to the CEO.\n",
    "    A task is used to develop a feature for a software product.\n",
    "  ''',\n",
    "  code_execution_config=False,\n",
    ")\n",
    "\n",
    "ceo = AssistantAgent(\n",
    "  name=\"CEO\",\n",
    "  llm_config=gpt4_config,\n",
    "  system_message='''\n",
    "    CEO.\n",
    "    Discusses task from a business perspective with the CPO.\n",
    "    Makes sure the task is kept in line with budget and time management.\n",
    "  ''',\n",
    ")\n",
    "\n",
    "cpo = AssistantAgent(\n",
    "  name=\"CPO\",\n",
    "  llm_config=gpt4_config,\n",
    "  system_message='''\n",
    "    CPO.\n",
    "    Dicusses task from a product perspective with the CEO.\n",
    "    Knows the product and requirements of the customer and decides\n",
    "    what features are needed to realize the task.\n",
    "  '''\n",
    ")"
   ]
  },
  {
   "cell_type": "markdown",
   "metadata": {},
   "source": [
    "### The group chat"
   ]
  },
  {
   "cell_type": "code",
   "execution_count": 10,
   "metadata": {},
   "outputs": [],
   "source": [
    "from autogen import GroupChat, GroupChatManager\n",
    "\n",
    "groupchat = GroupChat(agents=[user_proxy, ceo, cpo], messages=[], max_round=50)\n",
    "manager = GroupChatManager(groupchat=groupchat, llm_config=gpt4_config)"
   ]
  },
  {
   "cell_type": "markdown",
   "metadata": {},
   "source": [
    "### Initiate chat"
   ]
  },
  {
   "cell_type": "code",
   "execution_count": 11,
   "metadata": {},
   "outputs": [
    {
     "name": "stdout",
     "output_type": "stream",
     "text": [
      "\u001b[33mCustomer\u001b[0m (to chat_manager):\n",
      "\n",
      "\n",
      "    My existing website needs a new page for my cosmetics product \"Shiny Anti-Age Gel+\".\n",
      "  \n",
      "\n",
      "--------------------------------------------------------------------------------\n",
      "\u001b[33mCEO\u001b[0m (to chat_manager):\n",
      "\n",
      "As the CEO, I understand the importance of showcasing our new product effectively on our website. This will not only help in marketing the product but also in providing necessary information to our customers. \n",
      "\n",
      "I will discuss this task with our Chief Product Officer (CPO) to ensure that the new page aligns with our product strategy and branding. We need to highlight the unique selling points of \"Shiny Anti-Age Gel+\" and how it stands out in the market. \n",
      "\n",
      "In terms of budget, we need to consider the cost of designing and developing the new page, as well as any additional costs for content creation, such as product photography or video. We should also consider the potential return on investment from increased product sales.\n",
      "\n",
      "Time management is also crucial. We need to set a realistic timeline for this project, taking into account the design, development, testing, and launch phases. We should aim to have the new page live in time for any planned marketing campaigns for the \"Shiny Anti-Age Gel+\". \n",
      "\n",
      "I will ensure that these considerations are taken into account and that the project is executed efficiently and effectively.\n",
      "\n",
      "--------------------------------------------------------------------------------\n",
      "\u001b[33mCPO\u001b[0m (to chat_manager):\n",
      "\n",
      "As the CPO, I completely agree with your points. The new product page for \"Shiny Anti-Age Gel+\" should not only be visually appealing but also informative and easy to navigate for our customers. \n",
      "\n",
      "From a product perspective, we need to highlight the benefits and features of the \"Shiny Anti-Age Gel+\". We should include detailed descriptions, ingredients, usage instructions, and possibly customer testimonials or reviews. High-quality images or videos of the product are also essential. \n",
      "\n",
      "In terms of design, the new page should align with our brand's aesthetic and overall website design. It should be mobile-friendly and optimized for search engines. \n",
      "\n",
      "As for the budget, I will work closely with our finance team to ensure that we stay within the allocated budget for this project. We will prioritize the most important features and functionalities to provide the best value for our investment.\n",
      "\n",
      "Regarding the timeline, I will coordinate with our design and development teams to create a realistic project schedule. We will factor in time for testing and revisions to ensure that the new page is perfect before it goes live.\n",
      "\n",
      "I will also work with our marketing team to ensure that the launch of the new page is well-promoted and reaches our target audience effectively. \n",
      "\n",
      "In conclusion, I will oversee the entire process, from planning to execution, to ensure that the new product page meets our objectives and enhances our online presence.\n",
      "\n",
      "--------------------------------------------------------------------------------\n",
      "\u001b[33mCustomer\u001b[0m (to chat_manager):\n",
      "\n",
      "cool, thanks\n",
      "\n",
      "--------------------------------------------------------------------------------\n",
      "\u001b[33mCEO\u001b[0m (to chat_manager):\n",
      "\n",
      "You're welcome! If you have any other questions or need further clarification, feel free to ask. We're here to help!\n",
      "\n",
      "--------------------------------------------------------------------------------\n",
      "\u001b[31m\n",
      ">>>>>>>> NO HUMAN INPUT RECEIVED.\u001b[0m\n",
      "\u001b[31m\n",
      ">>>>>>>> USING AUTO REPLY...\u001b[0m\n",
      "\u001b[33mCustomer\u001b[0m (to chat_manager):\n",
      "\n",
      "\n",
      "\n",
      "--------------------------------------------------------------------------------\n",
      "\u001b[33mCPO\u001b[0m (to chat_manager):\n",
      "\n",
      "Sure, feel free to ask any questions or provide more details whenever you're ready. We're here to assist you.\n",
      "\n",
      "--------------------------------------------------------------------------------\n"
     ]
    }
   ],
   "source": [
    "user_proxy.initiate_chat(\n",
    "  manager,\n",
    "  message='''\n",
    "    My existing website needs a new page for my cosmetics product \"Shiny Anti-Age Gel+\".\n",
    "  '''\n",
    ")\n",
    "# type exit to terminate the chat"
   ]
  }
 ],
 "metadata": {
  "kernelspec": {
   "display_name": "Python 3",
   "language": "python",
   "name": "python3"
  },
  "language_info": {
   "codemirror_mode": {
    "name": "ipython",
    "version": 3
   },
   "file_extension": ".py",
   "mimetype": "text/x-python",
   "name": "python",
   "nbconvert_exporter": "python",
   "pygments_lexer": "ipython3",
   "version": "3.10.12"
  }
 },
 "nbformat": 4,
 "nbformat_minor": 2
}
